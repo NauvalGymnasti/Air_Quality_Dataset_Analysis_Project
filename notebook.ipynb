{
  "cells": [
    {
      "cell_type": "markdown",
      "metadata": {
        "id": "H9wADwK78DCz"
      },
      "source": [
        "# Proyek Analisis Data: Air Quality Dataset\n",
        "- **Nama:** Nauval Gymnasti\n",
        "- **Email:** nauvalgymnasti7@gmail.com / mc299d5y1716@student.devacademy.id\n",
        "- **ID Dicoding:** nauvalgymnasti"
      ]
    },
    {
      "cell_type": "markdown",
      "metadata": {
        "id": "eE0raob58DC0"
      },
      "source": [
        "## Menentukan Pertanyaan Bisnis"
      ]
    },
    {
      "cell_type": "markdown",
      "metadata": {
        "id": "GmQeQ5YF8DC0"
      },
      "source": [
        "- Bagaimana relasi antara curah hujan (RAIN) dengan kadar Karbon Monoksida di kota Guanyuan?\n",
        "- Bagaimana pola tren kadar karbon monoksida (CO) di Kota Guanyuan per bulan pada tahun 2015 dibandingkan dengan 2016? Apakah terdapat korelasi yang signifikan antara keduanya?\n"
      ]
    },
    {
      "cell_type": "markdown",
      "metadata": {
        "id": "H-z4QGlO8DC1"
      },
      "source": [
        "## Import Semua Packages/Library yang Digunakan"
      ]
    },
    {
      "cell_type": "code",
      "execution_count": 101,
      "metadata": {
        "id": "FVYwaObI8DC1"
      },
      "outputs": [],
      "source": [
        "import pandas as pd\n",
        "import numpy as np\n",
        "import matplotlib.pyplot as plt\n",
        "import seaborn as sns\n",
        "import plotly.express as px\n",
        "from datetime import datetime\n",
        "from sklearn.preprocessing import MinMaxScaler\n",
        "import statsmodels.api as sm"
      ]
    },
    {
      "cell_type": "markdown",
      "metadata": {
        "id": "h_Sh51Xy8DC1"
      },
      "source": [
        "## Data Wrangling"
      ]
    },
    {
      "cell_type": "markdown",
      "metadata": {
        "id": "sXU2GBYu8DC1"
      },
      "source": [
        "### Gathering Data"
      ]
    },
    {
      "cell_type": "code",
      "execution_count": 102,
      "metadata": {
        "colab": {
          "base_uri": "https://localhost:8080/",
          "height": 206
        },
        "id": "zjCBk1BI8DC1",
        "outputId": "f6338fc6-9659-48d0-f220-c8b2827850bc"
      },
      "outputs": [
        {
          "data": {
            "text/html": [
              "<div>\n",
              "<style scoped>\n",
              "    .dataframe tbody tr th:only-of-type {\n",
              "        vertical-align: middle;\n",
              "    }\n",
              "\n",
              "    .dataframe tbody tr th {\n",
              "        vertical-align: top;\n",
              "    }\n",
              "\n",
              "    .dataframe thead th {\n",
              "        text-align: right;\n",
              "    }\n",
              "</style>\n",
              "<table border=\"1\" class=\"dataframe\">\n",
              "  <thead>\n",
              "    <tr style=\"text-align: right;\">\n",
              "      <th></th>\n",
              "      <th>No</th>\n",
              "      <th>year</th>\n",
              "      <th>month</th>\n",
              "      <th>day</th>\n",
              "      <th>hour</th>\n",
              "      <th>PM2.5</th>\n",
              "      <th>PM10</th>\n",
              "      <th>SO2</th>\n",
              "      <th>NO2</th>\n",
              "      <th>CO</th>\n",
              "      <th>O3</th>\n",
              "      <th>TEMP</th>\n",
              "      <th>PRES</th>\n",
              "      <th>DEWP</th>\n",
              "      <th>RAIN</th>\n",
              "      <th>wd</th>\n",
              "      <th>WSPM</th>\n",
              "      <th>station</th>\n",
              "    </tr>\n",
              "  </thead>\n",
              "  <tbody>\n",
              "    <tr>\n",
              "      <th>0</th>\n",
              "      <td>1</td>\n",
              "      <td>2013</td>\n",
              "      <td>3</td>\n",
              "      <td>1</td>\n",
              "      <td>0</td>\n",
              "      <td>4.0</td>\n",
              "      <td>4.0</td>\n",
              "      <td>14.0</td>\n",
              "      <td>20.0</td>\n",
              "      <td>300.0</td>\n",
              "      <td>69.0</td>\n",
              "      <td>-0.7</td>\n",
              "      <td>1023.0</td>\n",
              "      <td>-18.8</td>\n",
              "      <td>0.0</td>\n",
              "      <td>NNW</td>\n",
              "      <td>4.4</td>\n",
              "      <td>Guanyuan</td>\n",
              "    </tr>\n",
              "    <tr>\n",
              "      <th>1</th>\n",
              "      <td>2</td>\n",
              "      <td>2013</td>\n",
              "      <td>3</td>\n",
              "      <td>1</td>\n",
              "      <td>1</td>\n",
              "      <td>4.0</td>\n",
              "      <td>4.0</td>\n",
              "      <td>13.0</td>\n",
              "      <td>17.0</td>\n",
              "      <td>300.0</td>\n",
              "      <td>72.0</td>\n",
              "      <td>-1.1</td>\n",
              "      <td>1023.2</td>\n",
              "      <td>-18.2</td>\n",
              "      <td>0.0</td>\n",
              "      <td>N</td>\n",
              "      <td>4.7</td>\n",
              "      <td>Guanyuan</td>\n",
              "    </tr>\n",
              "    <tr>\n",
              "      <th>2</th>\n",
              "      <td>3</td>\n",
              "      <td>2013</td>\n",
              "      <td>3</td>\n",
              "      <td>1</td>\n",
              "      <td>2</td>\n",
              "      <td>3.0</td>\n",
              "      <td>3.0</td>\n",
              "      <td>10.0</td>\n",
              "      <td>19.0</td>\n",
              "      <td>300.0</td>\n",
              "      <td>69.0</td>\n",
              "      <td>-1.1</td>\n",
              "      <td>1023.5</td>\n",
              "      <td>-18.2</td>\n",
              "      <td>0.0</td>\n",
              "      <td>NNW</td>\n",
              "      <td>5.6</td>\n",
              "      <td>Guanyuan</td>\n",
              "    </tr>\n",
              "    <tr>\n",
              "      <th>3</th>\n",
              "      <td>4</td>\n",
              "      <td>2013</td>\n",
              "      <td>3</td>\n",
              "      <td>1</td>\n",
              "      <td>3</td>\n",
              "      <td>3.0</td>\n",
              "      <td>6.0</td>\n",
              "      <td>7.0</td>\n",
              "      <td>24.0</td>\n",
              "      <td>400.0</td>\n",
              "      <td>62.0</td>\n",
              "      <td>-1.4</td>\n",
              "      <td>1024.5</td>\n",
              "      <td>-19.4</td>\n",
              "      <td>0.0</td>\n",
              "      <td>NW</td>\n",
              "      <td>3.1</td>\n",
              "      <td>Guanyuan</td>\n",
              "    </tr>\n",
              "    <tr>\n",
              "      <th>4</th>\n",
              "      <td>5</td>\n",
              "      <td>2013</td>\n",
              "      <td>3</td>\n",
              "      <td>1</td>\n",
              "      <td>4</td>\n",
              "      <td>3.0</td>\n",
              "      <td>6.0</td>\n",
              "      <td>5.0</td>\n",
              "      <td>14.0</td>\n",
              "      <td>400.0</td>\n",
              "      <td>71.0</td>\n",
              "      <td>-2.0</td>\n",
              "      <td>1025.2</td>\n",
              "      <td>-19.5</td>\n",
              "      <td>0.0</td>\n",
              "      <td>N</td>\n",
              "      <td>2.0</td>\n",
              "      <td>Guanyuan</td>\n",
              "    </tr>\n",
              "  </tbody>\n",
              "</table>\n",
              "</div>"
            ],
            "text/plain": [
              "   No  year  month  day  hour  PM2.5  PM10   SO2   NO2     CO    O3  TEMP  \\\n",
              "0   1  2013      3    1     0    4.0   4.0  14.0  20.0  300.0  69.0  -0.7   \n",
              "1   2  2013      3    1     1    4.0   4.0  13.0  17.0  300.0  72.0  -1.1   \n",
              "2   3  2013      3    1     2    3.0   3.0  10.0  19.0  300.0  69.0  -1.1   \n",
              "3   4  2013      3    1     3    3.0   6.0   7.0  24.0  400.0  62.0  -1.4   \n",
              "4   5  2013      3    1     4    3.0   6.0   5.0  14.0  400.0  71.0  -2.0   \n",
              "\n",
              "     PRES  DEWP  RAIN   wd  WSPM   station  \n",
              "0  1023.0 -18.8   0.0  NNW   4.4  Guanyuan  \n",
              "1  1023.2 -18.2   0.0    N   4.7  Guanyuan  \n",
              "2  1023.5 -18.2   0.0  NNW   5.6  Guanyuan  \n",
              "3  1024.5 -19.4   0.0   NW   3.1  Guanyuan  \n",
              "4  1025.2 -19.5   0.0    N   2.0  Guanyuan  "
            ]
          },
          "execution_count": 102,
          "metadata": {},
          "output_type": "execute_result"
        }
      ],
      "source": [
        "# Memuat dataset PRSA_Data_Guanyuan_20130301-20170228.csv\n",
        "df_prsa = pd.read_csv(\"data/PRSA_Data_Guanyuan_20130301-20170228.csv\")\n",
        "df_prsa.shape\n",
        "df_prsa.head()"
      ]
    },
    {
      "cell_type": "markdown",
      "metadata": {
        "id": "MMi6xGaDkbCi"
      },
      "source": [
        "Untuk memahami struktur data, saya akan memuat dataset PRSA_Data_Guanyuan_20130301-20170228.csv dan melakukan pemrosesan data dasar sebelum melanjutkan eksplorasi data."
      ]
    },
    {
      "cell_type": "markdown",
      "metadata": {
        "id": "FHSiqaZp8DC1"
      },
      "source": [
        "### Assessing Data"
      ]
    },
    {
      "cell_type": "markdown",
      "metadata": {
        "id": "OwSSPR7ClSBa"
      },
      "source": [
        "Cek Tipe Data"
      ]
    },
    {
      "cell_type": "code",
      "execution_count": 103,
      "metadata": {
        "colab": {
          "base_uri": "https://localhost:8080/"
        },
        "id": "ax-3tEjc9Cj1",
        "outputId": "782e6fed-194f-4eef-e550-61deb6e250d4"
      },
      "outputs": [
        {
          "name": "stdout",
          "output_type": "stream",
          "text": [
            "<class 'pandas.core.frame.DataFrame'>\n",
            "RangeIndex: 35064 entries, 0 to 35063\n",
            "Data columns (total 18 columns):\n",
            " #   Column   Non-Null Count  Dtype  \n",
            "---  ------   --------------  -----  \n",
            " 0   No       35064 non-null  int64  \n",
            " 1   year     35064 non-null  int64  \n",
            " 2   month    35064 non-null  int64  \n",
            " 3   day      35064 non-null  int64  \n",
            " 4   hour     35064 non-null  int64  \n",
            " 5   PM2.5    34448 non-null  float64\n",
            " 6   PM10     34635 non-null  float64\n",
            " 7   SO2      34590 non-null  float64\n",
            " 8   NO2      34405 non-null  float64\n",
            " 9   CO       33311 non-null  float64\n",
            " 10  O3       33891 non-null  float64\n",
            " 11  TEMP     35044 non-null  float64\n",
            " 12  PRES     35044 non-null  float64\n",
            " 13  DEWP     35044 non-null  float64\n",
            " 14  RAIN     35044 non-null  float64\n",
            " 15  wd       34983 non-null  object \n",
            " 16  WSPM     35050 non-null  float64\n",
            " 17  station  35064 non-null  object \n",
            "dtypes: float64(11), int64(5), object(2)\n",
            "memory usage: 4.8+ MB\n"
          ]
        }
      ],
      "source": [
        "# Memeriksa tipe data tiap kolom pada data df_prsa\n",
        "df_prsa.info()"
      ]
    },
    {
      "cell_type": "markdown",
      "metadata": {
        "id": "KLZWFHlvmju7"
      },
      "source": [
        "Disini kita bisa melihat terdapat ketidaksesuaian tipe data pada kolom \"year\", \"month\", \"day\", dan \"hour\". kita juga dapat melihat bahwa terdapat pebedaan jumlah data pada beberapa kolom hal ini mengindikasikan adanya missing value."
      ]
    },
    {
      "cell_type": "markdown",
      "metadata": {
        "id": "Whk-E7l8lcWY"
      },
      "source": [
        "Cek Missing Value"
      ]
    },
    {
      "cell_type": "code",
      "execution_count": 104,
      "metadata": {
        "colab": {
          "base_uri": "https://localhost:8080/"
        },
        "collapsed": true,
        "id": "8wuUyay6levk",
        "outputId": "fc19f1fe-aded-486c-f36f-fadce7289f1a"
      },
      "outputs": [
        {
          "name": "stdout",
          "output_type": "stream",
          "text": [
            "No            0\n",
            "year          0\n",
            "month         0\n",
            "day           0\n",
            "hour          0\n",
            "PM2.5       616\n",
            "PM10        429\n",
            "SO2         474\n",
            "NO2         659\n",
            "CO         1753\n",
            "O3         1173\n",
            "TEMP         20\n",
            "PRES         20\n",
            "DEWP         20\n",
            "RAIN         20\n",
            "wd           81\n",
            "WSPM         14\n",
            "station       0\n",
            "dtype: int64\n"
          ]
        }
      ],
      "source": [
        "# Memeriksa missing value pada data df_prsa\n",
        "print(df_prsa.isna().sum())"
      ]
    },
    {
      "cell_type": "markdown",
      "metadata": {
        "id": "zzpL837QnXzX"
      },
      "source": [
        "Terdapat missing value di beberapa kolom"
      ]
    },
    {
      "cell_type": "markdown",
      "metadata": {
        "id": "vTGAwrhCmEhL"
      },
      "source": [
        "Cek Duplikasi Data"
      ]
    },
    {
      "cell_type": "code",
      "execution_count": 105,
      "metadata": {
        "colab": {
          "base_uri": "https://localhost:8080/"
        },
        "collapsed": true,
        "id": "H_qIBUobmHsX",
        "outputId": "2de0511a-8616-4264-a7fe-ab424237f2eb"
      },
      "outputs": [
        {
          "name": "stdout",
          "output_type": "stream",
          "text": [
            "Total duplikat di DataFrame PRSA: 0\n"
          ]
        }
      ],
      "source": [
        "# Cek jumlah data duplikat pada df_prsa\n",
        "print(f\"Total duplikat di DataFrame PRSA: {df_prsa.duplicated().sum()}\")"
      ]
    },
    {
      "cell_type": "markdown",
      "metadata": {
        "id": "qYaLv881njQH"
      },
      "source": [
        "Tidak terdapat data yang duplikat"
      ]
    },
    {
      "cell_type": "markdown",
      "metadata": {
        "id": "LNEVW6q9mZAB"
      },
      "source": [
        "Deskripsi Statistik"
      ]
    },
    {
      "cell_type": "code",
      "execution_count": 106,
      "metadata": {
        "colab": {
          "base_uri": "https://localhost:8080/",
          "height": 320
        },
        "collapsed": true,
        "id": "vMFJoRffmb-L",
        "outputId": "3d3eda86-12e3-4533-c892-c92819011719"
      },
      "outputs": [
        {
          "data": {
            "text/html": [
              "<div>\n",
              "<style scoped>\n",
              "    .dataframe tbody tr th:only-of-type {\n",
              "        vertical-align: middle;\n",
              "    }\n",
              "\n",
              "    .dataframe tbody tr th {\n",
              "        vertical-align: top;\n",
              "    }\n",
              "\n",
              "    .dataframe thead th {\n",
              "        text-align: right;\n",
              "    }\n",
              "</style>\n",
              "<table border=\"1\" class=\"dataframe\">\n",
              "  <thead>\n",
              "    <tr style=\"text-align: right;\">\n",
              "      <th></th>\n",
              "      <th>No</th>\n",
              "      <th>year</th>\n",
              "      <th>month</th>\n",
              "      <th>day</th>\n",
              "      <th>hour</th>\n",
              "      <th>PM2.5</th>\n",
              "      <th>PM10</th>\n",
              "      <th>SO2</th>\n",
              "      <th>NO2</th>\n",
              "      <th>CO</th>\n",
              "      <th>O3</th>\n",
              "      <th>TEMP</th>\n",
              "      <th>PRES</th>\n",
              "      <th>DEWP</th>\n",
              "      <th>RAIN</th>\n",
              "      <th>WSPM</th>\n",
              "    </tr>\n",
              "  </thead>\n",
              "  <tbody>\n",
              "    <tr>\n",
              "      <th>count</th>\n",
              "      <td>35064.000000</td>\n",
              "      <td>35064.000000</td>\n",
              "      <td>35064.000000</td>\n",
              "      <td>35064.000000</td>\n",
              "      <td>35064.000000</td>\n",
              "      <td>34448.000000</td>\n",
              "      <td>34635.000000</td>\n",
              "      <td>34590.000000</td>\n",
              "      <td>34405.000000</td>\n",
              "      <td>33311.000000</td>\n",
              "      <td>33891.000000</td>\n",
              "      <td>35044.000000</td>\n",
              "      <td>35044.000000</td>\n",
              "      <td>35044.000000</td>\n",
              "      <td>35044.000000</td>\n",
              "      <td>35050.000000</td>\n",
              "    </tr>\n",
              "    <tr>\n",
              "      <th>mean</th>\n",
              "      <td>17532.500000</td>\n",
              "      <td>2014.662560</td>\n",
              "      <td>6.522930</td>\n",
              "      <td>15.729637</td>\n",
              "      <td>11.500000</td>\n",
              "      <td>82.933372</td>\n",
              "      <td>109.023303</td>\n",
              "      <td>17.590941</td>\n",
              "      <td>57.901643</td>\n",
              "      <td>1271.294377</td>\n",
              "      <td>55.795044</td>\n",
              "      <td>13.584607</td>\n",
              "      <td>1011.846920</td>\n",
              "      <td>3.123062</td>\n",
              "      <td>0.067421</td>\n",
              "      <td>1.708496</td>\n",
              "    </tr>\n",
              "    <tr>\n",
              "      <th>std</th>\n",
              "      <td>10122.249256</td>\n",
              "      <td>1.177213</td>\n",
              "      <td>3.448752</td>\n",
              "      <td>8.800218</td>\n",
              "      <td>6.922285</td>\n",
              "      <td>80.933497</td>\n",
              "      <td>91.573709</td>\n",
              "      <td>23.600367</td>\n",
              "      <td>35.150857</td>\n",
              "      <td>1164.854945</td>\n",
              "      <td>57.436983</td>\n",
              "      <td>11.399097</td>\n",
              "      <td>10.404047</td>\n",
              "      <td>13.688896</td>\n",
              "      <td>0.910056</td>\n",
              "      <td>1.204071</td>\n",
              "    </tr>\n",
              "    <tr>\n",
              "      <th>min</th>\n",
              "      <td>1.000000</td>\n",
              "      <td>2013.000000</td>\n",
              "      <td>1.000000</td>\n",
              "      <td>1.000000</td>\n",
              "      <td>0.000000</td>\n",
              "      <td>2.000000</td>\n",
              "      <td>2.000000</td>\n",
              "      <td>1.000000</td>\n",
              "      <td>2.000000</td>\n",
              "      <td>100.000000</td>\n",
              "      <td>0.214200</td>\n",
              "      <td>-16.800000</td>\n",
              "      <td>985.900000</td>\n",
              "      <td>-35.300000</td>\n",
              "      <td>0.000000</td>\n",
              "      <td>0.000000</td>\n",
              "    </tr>\n",
              "    <tr>\n",
              "      <th>25%</th>\n",
              "      <td>8766.750000</td>\n",
              "      <td>2014.000000</td>\n",
              "      <td>4.000000</td>\n",
              "      <td>8.000000</td>\n",
              "      <td>5.750000</td>\n",
              "      <td>23.000000</td>\n",
              "      <td>40.000000</td>\n",
              "      <td>3.000000</td>\n",
              "      <td>31.000000</td>\n",
              "      <td>500.000000</td>\n",
              "      <td>7.000000</td>\n",
              "      <td>3.100000</td>\n",
              "      <td>1003.300000</td>\n",
              "      <td>-8.100000</td>\n",
              "      <td>0.000000</td>\n",
              "      <td>0.900000</td>\n",
              "    </tr>\n",
              "    <tr>\n",
              "      <th>50%</th>\n",
              "      <td>17532.500000</td>\n",
              "      <td>2015.000000</td>\n",
              "      <td>7.000000</td>\n",
              "      <td>16.000000</td>\n",
              "      <td>11.500000</td>\n",
              "      <td>59.000000</td>\n",
              "      <td>89.000000</td>\n",
              "      <td>8.000000</td>\n",
              "      <td>51.000000</td>\n",
              "      <td>900.000000</td>\n",
              "      <td>41.000000</td>\n",
              "      <td>14.500000</td>\n",
              "      <td>1011.400000</td>\n",
              "      <td>3.800000</td>\n",
              "      <td>0.000000</td>\n",
              "      <td>1.400000</td>\n",
              "    </tr>\n",
              "    <tr>\n",
              "      <th>75%</th>\n",
              "      <td>26298.250000</td>\n",
              "      <td>2016.000000</td>\n",
              "      <td>10.000000</td>\n",
              "      <td>23.000000</td>\n",
              "      <td>17.250000</td>\n",
              "      <td>115.000000</td>\n",
              "      <td>149.000000</td>\n",
              "      <td>22.000000</td>\n",
              "      <td>78.000000</td>\n",
              "      <td>1600.000000</td>\n",
              "      <td>81.000000</td>\n",
              "      <td>23.300000</td>\n",
              "      <td>1020.100000</td>\n",
              "      <td>15.600000</td>\n",
              "      <td>0.000000</td>\n",
              "      <td>2.200000</td>\n",
              "    </tr>\n",
              "    <tr>\n",
              "      <th>max</th>\n",
              "      <td>35064.000000</td>\n",
              "      <td>2017.000000</td>\n",
              "      <td>12.000000</td>\n",
              "      <td>31.000000</td>\n",
              "      <td>23.000000</td>\n",
              "      <td>680.000000</td>\n",
              "      <td>999.000000</td>\n",
              "      <td>293.000000</td>\n",
              "      <td>270.000000</td>\n",
              "      <td>10000.000000</td>\n",
              "      <td>415.000000</td>\n",
              "      <td>40.500000</td>\n",
              "      <td>1042.000000</td>\n",
              "      <td>28.500000</td>\n",
              "      <td>72.500000</td>\n",
              "      <td>11.200000</td>\n",
              "    </tr>\n",
              "  </tbody>\n",
              "</table>\n",
              "</div>"
            ],
            "text/plain": [
              "                 No          year         month           day          hour  \\\n",
              "count  35064.000000  35064.000000  35064.000000  35064.000000  35064.000000   \n",
              "mean   17532.500000   2014.662560      6.522930     15.729637     11.500000   \n",
              "std    10122.249256      1.177213      3.448752      8.800218      6.922285   \n",
              "min        1.000000   2013.000000      1.000000      1.000000      0.000000   \n",
              "25%     8766.750000   2014.000000      4.000000      8.000000      5.750000   \n",
              "50%    17532.500000   2015.000000      7.000000     16.000000     11.500000   \n",
              "75%    26298.250000   2016.000000     10.000000     23.000000     17.250000   \n",
              "max    35064.000000   2017.000000     12.000000     31.000000     23.000000   \n",
              "\n",
              "              PM2.5          PM10           SO2           NO2            CO  \\\n",
              "count  34448.000000  34635.000000  34590.000000  34405.000000  33311.000000   \n",
              "mean      82.933372    109.023303     17.590941     57.901643   1271.294377   \n",
              "std       80.933497     91.573709     23.600367     35.150857   1164.854945   \n",
              "min        2.000000      2.000000      1.000000      2.000000    100.000000   \n",
              "25%       23.000000     40.000000      3.000000     31.000000    500.000000   \n",
              "50%       59.000000     89.000000      8.000000     51.000000    900.000000   \n",
              "75%      115.000000    149.000000     22.000000     78.000000   1600.000000   \n",
              "max      680.000000    999.000000    293.000000    270.000000  10000.000000   \n",
              "\n",
              "                 O3          TEMP          PRES          DEWP          RAIN  \\\n",
              "count  33891.000000  35044.000000  35044.000000  35044.000000  35044.000000   \n",
              "mean      55.795044     13.584607   1011.846920      3.123062      0.067421   \n",
              "std       57.436983     11.399097     10.404047     13.688896      0.910056   \n",
              "min        0.214200    -16.800000    985.900000    -35.300000      0.000000   \n",
              "25%        7.000000      3.100000   1003.300000     -8.100000      0.000000   \n",
              "50%       41.000000     14.500000   1011.400000      3.800000      0.000000   \n",
              "75%       81.000000     23.300000   1020.100000     15.600000      0.000000   \n",
              "max      415.000000     40.500000   1042.000000     28.500000     72.500000   \n",
              "\n",
              "               WSPM  \n",
              "count  35050.000000  \n",
              "mean       1.708496  \n",
              "std        1.204071  \n",
              "min        0.000000  \n",
              "25%        0.900000  \n",
              "50%        1.400000  \n",
              "75%        2.200000  \n",
              "max       11.200000  "
            ]
          },
          "execution_count": 106,
          "metadata": {},
          "output_type": "execute_result"
        }
      ],
      "source": [
        "# Describe data df_prsa\n",
        "df_prsa.describe()"
      ]
    },
    {
      "cell_type": "markdown",
      "metadata": {
        "id": "7dtxhAPrkhPL"
      },
      "source": [
        "**Insight:**\n",
        "- xxx\n",
        "- xxx"
      ]
    },
    {
      "cell_type": "markdown",
      "metadata": {
        "id": "EhN5R4hr8DC1"
      },
      "source": [
        "### Cleaning Data"
      ]
    },
    {
      "cell_type": "markdown",
      "metadata": {
        "id": "RytHfofso8SW"
      },
      "source": [
        "**Mengatasi Missing Value di Kolom CO**"
      ]
    },
    {
      "cell_type": "code",
      "execution_count": 107,
      "metadata": {
        "colab": {
          "base_uri": "https://localhost:8080/",
          "height": 423
        },
        "collapsed": true,
        "id": "CMz86mfIq49q",
        "outputId": "9b37315e-b88c-48c6-b638-9e4be5d9a816"
      },
      "outputs": [
        {
          "data": {
            "text/html": [
              "<div>\n",
              "<style scoped>\n",
              "    .dataframe tbody tr th:only-of-type {\n",
              "        vertical-align: middle;\n",
              "    }\n",
              "\n",
              "    .dataframe tbody tr th {\n",
              "        vertical-align: top;\n",
              "    }\n",
              "\n",
              "    .dataframe thead th {\n",
              "        text-align: right;\n",
              "    }\n",
              "</style>\n",
              "<table border=\"1\" class=\"dataframe\">\n",
              "  <thead>\n",
              "    <tr style=\"text-align: right;\">\n",
              "      <th></th>\n",
              "      <th>No</th>\n",
              "      <th>year</th>\n",
              "      <th>month</th>\n",
              "      <th>day</th>\n",
              "      <th>hour</th>\n",
              "      <th>PM2.5</th>\n",
              "      <th>PM10</th>\n",
              "      <th>SO2</th>\n",
              "      <th>NO2</th>\n",
              "      <th>CO</th>\n",
              "      <th>O3</th>\n",
              "      <th>TEMP</th>\n",
              "      <th>PRES</th>\n",
              "      <th>DEWP</th>\n",
              "      <th>RAIN</th>\n",
              "      <th>wd</th>\n",
              "      <th>WSPM</th>\n",
              "      <th>station</th>\n",
              "    </tr>\n",
              "  </thead>\n",
              "  <tbody>\n",
              "    <tr>\n",
              "      <th>27</th>\n",
              "      <td>28</td>\n",
              "      <td>2013</td>\n",
              "      <td>3</td>\n",
              "      <td>2</td>\n",
              "      <td>3</td>\n",
              "      <td>3.0</td>\n",
              "      <td>6.0</td>\n",
              "      <td>12.0000</td>\n",
              "      <td>32.0000</td>\n",
              "      <td>NaN</td>\n",
              "      <td>79.0</td>\n",
              "      <td>-1.4</td>\n",
              "      <td>1030.6</td>\n",
              "      <td>-17.6</td>\n",
              "      <td>0.0</td>\n",
              "      <td>NNE</td>\n",
              "      <td>1.4</td>\n",
              "      <td>Guanyuan</td>\n",
              "    </tr>\n",
              "    <tr>\n",
              "      <th>123</th>\n",
              "      <td>124</td>\n",
              "      <td>2013</td>\n",
              "      <td>3</td>\n",
              "      <td>6</td>\n",
              "      <td>3</td>\n",
              "      <td>160.0</td>\n",
              "      <td>189.0</td>\n",
              "      <td>102.0000</td>\n",
              "      <td>160.0000</td>\n",
              "      <td>NaN</td>\n",
              "      <td>39.0</td>\n",
              "      <td>4.0</td>\n",
              "      <td>1007.6</td>\n",
              "      <td>-6.3</td>\n",
              "      <td>0.0</td>\n",
              "      <td>NE</td>\n",
              "      <td>1.9</td>\n",
              "      <td>Guanyuan</td>\n",
              "    </tr>\n",
              "    <tr>\n",
              "      <th>178</th>\n",
              "      <td>179</td>\n",
              "      <td>2013</td>\n",
              "      <td>3</td>\n",
              "      <td>8</td>\n",
              "      <td>10</td>\n",
              "      <td>314.0</td>\n",
              "      <td>331.0</td>\n",
              "      <td>72.5424</td>\n",
              "      <td>220.0816</td>\n",
              "      <td>NaN</td>\n",
              "      <td>107.0</td>\n",
              "      <td>19.1</td>\n",
              "      <td>1000.9</td>\n",
              "      <td>-0.4</td>\n",
              "      <td>0.0</td>\n",
              "      <td>SSW</td>\n",
              "      <td>1.9</td>\n",
              "      <td>Guanyuan</td>\n",
              "    </tr>\n",
              "    <tr>\n",
              "      <th>219</th>\n",
              "      <td>220</td>\n",
              "      <td>2013</td>\n",
              "      <td>3</td>\n",
              "      <td>10</td>\n",
              "      <td>3</td>\n",
              "      <td>16.0</td>\n",
              "      <td>30.0</td>\n",
              "      <td>14.0000</td>\n",
              "      <td>46.0000</td>\n",
              "      <td>NaN</td>\n",
              "      <td>87.0</td>\n",
              "      <td>-2.0</td>\n",
              "      <td>1021.1</td>\n",
              "      <td>-11.8</td>\n",
              "      <td>0.0</td>\n",
              "      <td>NNW</td>\n",
              "      <td>1.2</td>\n",
              "      <td>Guanyuan</td>\n",
              "    </tr>\n",
              "    <tr>\n",
              "      <th>315</th>\n",
              "      <td>316</td>\n",
              "      <td>2013</td>\n",
              "      <td>3</td>\n",
              "      <td>14</td>\n",
              "      <td>3</td>\n",
              "      <td>48.0</td>\n",
              "      <td>52.0</td>\n",
              "      <td>25.0000</td>\n",
              "      <td>52.0000</td>\n",
              "      <td>NaN</td>\n",
              "      <td>82.0</td>\n",
              "      <td>-0.1</td>\n",
              "      <td>1023.8</td>\n",
              "      <td>-4.7</td>\n",
              "      <td>0.0</td>\n",
              "      <td>WNW</td>\n",
              "      <td>0.5</td>\n",
              "      <td>Guanyuan</td>\n",
              "    </tr>\n",
              "    <tr>\n",
              "      <th>...</th>\n",
              "      <td>...</td>\n",
              "      <td>...</td>\n",
              "      <td>...</td>\n",
              "      <td>...</td>\n",
              "      <td>...</td>\n",
              "      <td>...</td>\n",
              "      <td>...</td>\n",
              "      <td>...</td>\n",
              "      <td>...</td>\n",
              "      <td>...</td>\n",
              "      <td>...</td>\n",
              "      <td>...</td>\n",
              "      <td>...</td>\n",
              "      <td>...</td>\n",
              "      <td>...</td>\n",
              "      <td>...</td>\n",
              "      <td>...</td>\n",
              "      <td>...</td>\n",
              "    </tr>\n",
              "    <tr>\n",
              "      <th>35043</th>\n",
              "      <td>35044</td>\n",
              "      <td>2017</td>\n",
              "      <td>2</td>\n",
              "      <td>28</td>\n",
              "      <td>3</td>\n",
              "      <td>NaN</td>\n",
              "      <td>NaN</td>\n",
              "      <td>NaN</td>\n",
              "      <td>NaN</td>\n",
              "      <td>NaN</td>\n",
              "      <td>NaN</td>\n",
              "      <td>7.3</td>\n",
              "      <td>1015.8</td>\n",
              "      <td>-9.6</td>\n",
              "      <td>0.0</td>\n",
              "      <td>NE</td>\n",
              "      <td>1.0</td>\n",
              "      <td>Guanyuan</td>\n",
              "    </tr>\n",
              "    <tr>\n",
              "      <th>35044</th>\n",
              "      <td>35045</td>\n",
              "      <td>2017</td>\n",
              "      <td>2</td>\n",
              "      <td>28</td>\n",
              "      <td>4</td>\n",
              "      <td>NaN</td>\n",
              "      <td>NaN</td>\n",
              "      <td>NaN</td>\n",
              "      <td>NaN</td>\n",
              "      <td>NaN</td>\n",
              "      <td>NaN</td>\n",
              "      <td>7.0</td>\n",
              "      <td>1016.0</td>\n",
              "      <td>-9.4</td>\n",
              "      <td>0.0</td>\n",
              "      <td>ENE</td>\n",
              "      <td>1.9</td>\n",
              "      <td>Guanyuan</td>\n",
              "    </tr>\n",
              "    <tr>\n",
              "      <th>35045</th>\n",
              "      <td>35046</td>\n",
              "      <td>2017</td>\n",
              "      <td>2</td>\n",
              "      <td>28</td>\n",
              "      <td>5</td>\n",
              "      <td>NaN</td>\n",
              "      <td>NaN</td>\n",
              "      <td>NaN</td>\n",
              "      <td>NaN</td>\n",
              "      <td>NaN</td>\n",
              "      <td>NaN</td>\n",
              "      <td>5.3</td>\n",
              "      <td>1015.9</td>\n",
              "      <td>-9.0</td>\n",
              "      <td>0.0</td>\n",
              "      <td>E</td>\n",
              "      <td>1.4</td>\n",
              "      <td>Guanyuan</td>\n",
              "    </tr>\n",
              "    <tr>\n",
              "      <th>35046</th>\n",
              "      <td>35047</td>\n",
              "      <td>2017</td>\n",
              "      <td>2</td>\n",
              "      <td>28</td>\n",
              "      <td>6</td>\n",
              "      <td>NaN</td>\n",
              "      <td>NaN</td>\n",
              "      <td>NaN</td>\n",
              "      <td>NaN</td>\n",
              "      <td>NaN</td>\n",
              "      <td>NaN</td>\n",
              "      <td>9.5</td>\n",
              "      <td>1015.9</td>\n",
              "      <td>-11.2</td>\n",
              "      <td>0.0</td>\n",
              "      <td>NNW</td>\n",
              "      <td>3.1</td>\n",
              "      <td>Guanyuan</td>\n",
              "    </tr>\n",
              "    <tr>\n",
              "      <th>35047</th>\n",
              "      <td>35048</td>\n",
              "      <td>2017</td>\n",
              "      <td>2</td>\n",
              "      <td>28</td>\n",
              "      <td>7</td>\n",
              "      <td>NaN</td>\n",
              "      <td>NaN</td>\n",
              "      <td>NaN</td>\n",
              "      <td>NaN</td>\n",
              "      <td>NaN</td>\n",
              "      <td>NaN</td>\n",
              "      <td>8.4</td>\n",
              "      <td>1016.2</td>\n",
              "      <td>-12.1</td>\n",
              "      <td>0.0</td>\n",
              "      <td>NW</td>\n",
              "      <td>2.3</td>\n",
              "      <td>Guanyuan</td>\n",
              "    </tr>\n",
              "  </tbody>\n",
              "</table>\n",
              "<p>1753 rows × 18 columns</p>\n",
              "</div>"
            ],
            "text/plain": [
              "          No  year  month  day  hour  PM2.5   PM10       SO2       NO2  CO  \\\n",
              "27        28  2013      3    2     3    3.0    6.0   12.0000   32.0000 NaN   \n",
              "123      124  2013      3    6     3  160.0  189.0  102.0000  160.0000 NaN   \n",
              "178      179  2013      3    8    10  314.0  331.0   72.5424  220.0816 NaN   \n",
              "219      220  2013      3   10     3   16.0   30.0   14.0000   46.0000 NaN   \n",
              "315      316  2013      3   14     3   48.0   52.0   25.0000   52.0000 NaN   \n",
              "...      ...   ...    ...  ...   ...    ...    ...       ...       ...  ..   \n",
              "35043  35044  2017      2   28     3    NaN    NaN       NaN       NaN NaN   \n",
              "35044  35045  2017      2   28     4    NaN    NaN       NaN       NaN NaN   \n",
              "35045  35046  2017      2   28     5    NaN    NaN       NaN       NaN NaN   \n",
              "35046  35047  2017      2   28     6    NaN    NaN       NaN       NaN NaN   \n",
              "35047  35048  2017      2   28     7    NaN    NaN       NaN       NaN NaN   \n",
              "\n",
              "          O3  TEMP    PRES  DEWP  RAIN   wd  WSPM   station  \n",
              "27      79.0  -1.4  1030.6 -17.6   0.0  NNE   1.4  Guanyuan  \n",
              "123     39.0   4.0  1007.6  -6.3   0.0   NE   1.9  Guanyuan  \n",
              "178    107.0  19.1  1000.9  -0.4   0.0  SSW   1.9  Guanyuan  \n",
              "219     87.0  -2.0  1021.1 -11.8   0.0  NNW   1.2  Guanyuan  \n",
              "315     82.0  -0.1  1023.8  -4.7   0.0  WNW   0.5  Guanyuan  \n",
              "...      ...   ...     ...   ...   ...  ...   ...       ...  \n",
              "35043    NaN   7.3  1015.8  -9.6   0.0   NE   1.0  Guanyuan  \n",
              "35044    NaN   7.0  1016.0  -9.4   0.0  ENE   1.9  Guanyuan  \n",
              "35045    NaN   5.3  1015.9  -9.0   0.0    E   1.4  Guanyuan  \n",
              "35046    NaN   9.5  1015.9 -11.2   0.0  NNW   3.1  Guanyuan  \n",
              "35047    NaN   8.4  1016.2 -12.1   0.0   NW   2.3  Guanyuan  \n",
              "\n",
              "[1753 rows x 18 columns]"
            ]
          },
          "execution_count": 107,
          "metadata": {},
          "output_type": "execute_result"
        }
      ],
      "source": [
        "# melihat data yang mengandung missing value pada kolom CO menggunakan teknik filtering\n",
        "df_prsa[df_prsa.CO.isna()]"
      ]
    },
    {
      "cell_type": "code",
      "execution_count": 108,
      "metadata": {
        "colab": {
          "base_uri": "https://localhost:8080/",
          "height": 472
        },
        "collapsed": true,
        "id": "89ltVcnvsOo0",
        "outputId": "70dc8240-d351-4757-eca4-077d9cf7487c"
      },
      "outputs": [
        {
          "data": {
            "image/png": "[encoded data removed]",
            "text/plain": [
              "<Figure size 640x480 with 1 Axes>"
            ]
          },
          "metadata": {},
          "output_type": "display_data"
        }
      ],
      "source": [
        "# cek apakah data CO terdistribusi normal?\n",
        "plt.hist(df_prsa[\"CO\"].dropna(), bins=30, edgecolor=\"black\")\n",
        "plt.xlabel(\"CO Concentration\")\n",
        "plt.ylabel(\"Frequency\")\n",
        "plt.title(\"Distribution of CO Levels\")\n",
        "plt.show()"
      ]
    },
    {
      "cell_type": "markdown",
      "metadata": {
        "id": "hWFXI_NftWvY"
      },
      "source": [
        "Data cenderung left skewed, sehingga data tergolong tidak terdistribusi normal atau tidak simetris. jumlah data adalah 35064 sedangkan jumlah missing value di kolom co adalah 1753, sehingga saya memutuskan menggunakan metode interpolasi dengan mengisi nilai kosong dengan nilai median."
      ]
    },
    {
      "cell_type": "code",
      "execution_count": 109,
      "metadata": {
        "id": "K9jv8J71rQpy"
      },
      "outputs": [],
      "source": [
        "# mengganti missing value dengan nila median\n",
        "df_prsa.update(df_prsa[[\"CO\"]].fillna(900.000000))"
      ]
    },
    {
      "cell_type": "markdown",
      "metadata": {
        "id": "oETDl3eXy0ad"
      },
      "source": [
        "**Mengatasi Missing Value di Kolom O3**"
      ]
    },
    {
      "cell_type": "code",
      "execution_count": 110,
      "metadata": {
        "colab": {
          "base_uri": "https://localhost:8080/",
          "height": 472
        },
        "collapsed": true,
        "id": "gcjx-CltyyOm",
        "outputId": "dffba994-2861-4007-a90a-a37c1a6f1d73"
      },
      "outputs": [
        {
          "data": {
            "image/png": "[encoded data removed]",
            "text/plain": [
              "<Figure size 640x480 with 1 Axes>"
            ]
          },
          "metadata": {},
          "output_type": "display_data"
        }
      ],
      "source": [
        "# cek apakah data O3 terdistribusi normal?\n",
        "plt.hist(df_prsa[\"O3\"].dropna(), bins=30, edgecolor=\"black\")\n",
        "plt.xlabel(\"O3 Concentration\")\n",
        "plt.ylabel(\"Frequency\")\n",
        "plt.title(\"Distribution of O3 Levels\")\n",
        "plt.show()"
      ]
    },
    {
      "cell_type": "code",
      "execution_count": 111,
      "metadata": {
        "colab": {
          "base_uri": "https://localhost:8080/"
        },
        "id": "yCBtVYvszTkB",
        "outputId": "56298a67-6d7f-48d5-9d65-1f184d472c14"
      },
      "outputs": [
        {
          "name": "stdout",
          "output_type": "stream",
          "text": [
            "✅ Missing value pada kolom 'O3' berhasil diganti dengan median (41.0)\n"
          ]
        }
      ],
      "source": [
        "# mengganti missing value dengan nila median\n",
        "df_prsa.update(df_prsa[[\"O3\"]].fillna(41.000000))\n",
        "\n",
        "# menampilkan pesan suskes\n",
        "print(\"✅ Missing value pada kolom 'O3' berhasil diganti dengan median (41.0)\")"
      ]
    },
    {
      "cell_type": "markdown",
      "metadata": {
        "id": "lE9E3TDdzK3i"
      },
      "source": [
        "Karena kondisinya sama dengan kolom CO maka kita akan menggunakan metode yang sama"
      ]
    },
    {
      "cell_type": "markdown",
      "metadata": {
        "id": "5m3sD0EeoPwb"
      },
      "source": [
        "**Mengatasi Missing Value pada kolom kolom lain**"
      ]
    },
    {
      "cell_type": "code",
      "execution_count": 112,
      "metadata": {
        "colab": {
          "base_uri": "https://localhost:8080/"
        },
        "collapsed": true,
        "id": "8y_XFYmc1sYG",
        "outputId": "844c4788-cee0-4242-a884-2b5f7898b80a"
      },
      "outputs": [
        {
          "name": "stdout",
          "output_type": "stream",
          "text": [
            "No           0\n",
            "year         0\n",
            "month        0\n",
            "day          0\n",
            "hour         0\n",
            "PM2.5      616\n",
            "PM10       429\n",
            "SO2        474\n",
            "NO2        659\n",
            "CO           0\n",
            "O3           0\n",
            "TEMP        20\n",
            "PRES        20\n",
            "DEWP        20\n",
            "RAIN        20\n",
            "wd          81\n",
            "WSPM        14\n",
            "station      0\n",
            "dtype: int64\n"
          ]
        }
      ],
      "source": [
        "print(df_prsa.isna().sum())"
      ]
    },
    {
      "cell_type": "markdown",
      "metadata": {
        "id": "j_SEa9eF0ZVO"
      },
      "source": [
        "Missing value pada kolom kolom lainnya jika dijumlahkan akan kurang dari 3500 sehingga kita bisa menggunakan metode dropping karena jumalah datanya kurang dari 5% jumlah data"
      ]
    },
    {
      "cell_type": "code",
      "execution_count": 113,
      "metadata": {
        "colab": {
          "base_uri": "https://localhost:8080/"
        },
        "collapsed": true,
        "id": "jVnYpprE9Evz",
        "outputId": "0fd14446-e845-4fbe-9d09-c06edebbda1e"
      },
      "outputs": [
        {
          "name": "stdout",
          "output_type": "stream",
          "text": [
            "✅ Missing value berhasil dihilangkan\n"
          ]
        }
      ],
      "source": [
        "# Drop missing value\n",
        "df_prsa = df_prsa.dropna()\n",
        "\n",
        "# menampilkan pesan suskes\n",
        "print(\"✅ Missing value berhasil dihilangkan\")"
      ]
    },
    {
      "cell_type": "markdown",
      "metadata": {
        "id": "SG85Vh40eRbE"
      },
      "source": [
        "**Memperbaiki Tipe Data**\n",
        "\n",
        "Karena kolom year, month, day, hour masih dalam bentuk integer, kita perlu menggabungkannya menjadi satu kolom bertipe datetime."
      ]
    },
    {
      "cell_type": "code",
      "execution_count": 114,
      "metadata": {
        "colab": {
          "base_uri": "https://localhost:8080/"
        },
        "id": "50UPKEK9eQRO",
        "outputId": "e6687fb3-f3a1-4318-8f2f-ada18e703f65"
      },
      "outputs": [
        {
          "name": "stdout",
          "output_type": "stream",
          "text": [
            "✅ Data berhasil diubah ke tipe datetime\n"
          ]
        }
      ],
      "source": [
        "# Konversi ke datetime\n",
        "df_prsa['datetime'] = pd.to_datetime(df_prsa[['year', 'month', 'day', 'hour']])\n",
        "\n",
        "# manampilkan pesan sukses\n",
        "print(\"✅ Data berhasil diubah ke tipe datetime\")"
      ]
    },
    {
      "cell_type": "markdown",
      "metadata": {
        "id": "gp-Y6wU38DC1"
      },
      "source": [
        "## Exploratory Data Analysis (EDA)"
      ]
    },
    {
      "cell_type": "markdown",
      "metadata": {
        "id": "MW7WF2kr8DC1"
      },
      "source": [
        "Explore Data PRSA"
      ]
    },
    {
      "cell_type": "code",
      "execution_count": 115,
      "metadata": {
        "colab": {
          "base_uri": "https://localhost:8080/"
        },
        "collapsed": true,
        "id": "EXaYXNjLe3AI",
        "outputId": "51cf8a8c-01ef-4d97-f07f-b8b14d367e28"
      },
      "outputs": [
        {
          "name": "stdout",
          "output_type": "stream",
          "text": [
            "Kadar CO di udara berdasarkan bulan:\n",
            "            CO                               \n",
            "           max    min         mean        sum\n",
            "month                                        \n",
            "1       8100.0  100.0  1774.887270  5117000.0\n",
            "2       7100.0  100.0  1379.238754  3587400.0\n",
            "3       6799.0  100.0  1332.264736  3910197.0\n",
            "4       3600.0  100.0   865.579646  2347452.0\n",
            "5       3899.0  100.0   856.851891  2447169.0\n",
            "6      10000.0  100.0  1077.912998  3060195.0\n",
            "7       4200.0  100.0   960.904221  2708789.0\n",
            "8       3100.0  100.0   864.360223  2485900.0\n",
            "9       4000.0  100.0   971.109045  2716192.0\n",
            "10      5900.0  100.0  1185.976039  3365800.0\n",
            "11      9800.0  100.0  1694.204426  4823400.0\n",
            "12     10000.0  100.0  2077.311498  6088600.0\n"
          ]
        }
      ],
      "source": [
        "# Kelompokkan berdasarkan bulan\n",
        "monthly_pollution = df_prsa.groupby(by='month').agg({\n",
        "    'CO': ['max', 'min', 'mean', 'sum']\n",
        "})\n",
        "\n",
        "# Tampilkan tabel\n",
        "print(\"Kadar CO di udara berdasarkan bulan:\")\n",
        "print(monthly_pollution)"
      ]
    },
    {
      "cell_type": "markdown",
      "metadata": {
        "id": "xHxLG9wrj_DP"
      },
      "source": [
        "Insight\n",
        "- Desember (12), Januari (1), dan November (11) memiliki rata-rata kadar CO tertinggi dibandingkan bulan lainnya.\n",
        "- Bulan Juni (6), Juli (7), dan Agustus (8) menunjukkan kadar CO yang lebih rendah\n",
        "- Juni (6) dan Desember (12) memiliki nilai maksimum CO tertinggi, yaitu 10.000.\n",
        "- Desember memiliki total kadar CO tertinggi (6.147.900), sedangkan Agustus memiliki yang terendah (2.553.600). Ini menunjukkan adanya pola musiman dalam konsentrasi CO."
      ]
    },
    {
      "cell_type": "code",
      "execution_count": 116,
      "metadata": {
        "colab": {
          "base_uri": "https://localhost:8080/"
        },
        "collapsed": true,
        "id": "gmm7YeZmfbGf",
        "outputId": "4c756c3b-a547-4bc8-fd34-aa8c6facde2f"
      },
      "outputs": [
        {
          "name": "stdout",
          "output_type": "stream",
          "text": [
            "Rata-rata polusi udara berdasarkan jam:\n",
            "           CO                               \n",
            "          max    min         mean        sum\n",
            "hour                                        \n",
            "0     10000.0  100.0  1382.836134  1974690.0\n",
            "1      9500.0  100.0  1394.780436  1981983.0\n",
            "2      9800.0  100.0  1346.831897  1874790.0\n",
            "3      9900.0  100.0  1311.794800  1866684.0\n",
            "4      8900.0  100.0  1305.592672  1817385.0\n",
            "5      8800.0  100.0  1281.614501  1785289.0\n",
            "6      9000.0  100.0  1297.684615  1855689.0\n",
            "7      9100.0  100.0  1341.629811  1917189.0\n",
            "8      9200.0  100.0  1384.496162  1983983.0\n",
            "9      9200.0  100.0  1368.805886  1953286.0\n",
            "10    10000.0  100.0  1309.390313  1838384.0\n",
            "11    10000.0  100.0  1253.025326  1731681.0\n",
            "12     9100.0  100.0  1204.789398  1681886.0\n",
            "13     9600.0  100.0  1136.159574  1601985.0\n",
            "14     9700.0  100.0  1073.389047  1509185.0\n",
            "15     9300.0  100.0  1044.901068  1468086.0\n",
            "16     9100.0  100.0  1027.272080  1442290.0\n",
            "17     9000.0  100.0  1056.014255  1481588.0\n",
            "18     9000.0  100.0  1133.799151  1603192.0\n",
            "19    10000.0  100.0  1208.752628  1724890.0\n",
            "20    10000.0  100.0  1260.623158  1796388.0\n",
            "21    10000.0  100.0  1319.327285  1890596.0\n",
            "22     9200.0  100.0  1340.241935  1911185.0\n",
            "23     9800.0  100.0  1373.717680  1965790.0\n"
          ]
        }
      ],
      "source": [
        "# Kelompokkan berdasarkan jam\n",
        "hourly_pollution = df_prsa.groupby(by='hour').agg({\n",
        "    'CO': ['max', 'min', 'mean', 'sum']\n",
        "})\n",
        "\n",
        "# Tampilkan tabel\n",
        "print(\"Rata-rata polusi udara berdasarkan jam:\")\n",
        "print(hourly_pollution)\n"
      ]
    },
    {
      "cell_type": "markdown",
      "metadata": {
        "id": "V2ZNkr2vk5pH"
      },
      "source": [
        "Insight\n",
        "- Puncak konsentrasi CO terjadi antara pukul 00:00 - 02:00 dan pukul 22:00 - 23:00.\n",
        "- Pada jam 00:00 (1376.4), 01:00 (1393.2), 22:00 (1337.5), dan 23:00 (1371.8) rata-rata CO cukup tinggi.\n",
        "- Jam 07:00 (1338.1), 08:00 (1382.4), dan 09:00 (1365.4) menunjukkan peningkatan CO.\n",
        "- Kadar CO mulai menurun setelah jam 12:00 (1190.4) dan mencapai titik terendah sekitar jam 16:00 (1022.6).\n",
        "- Jam 18:00 (1129.9) hingga 23:00 (1371.8) kembali menunjukkan peningkatan kadar CO."
      ]
    },
    {
      "cell_type": "code",
      "execution_count": 117,
      "metadata": {
        "colab": {
          "base_uri": "https://localhost:8080/",
          "height": 431
        },
        "collapsed": true,
        "id": "7XXX_8oEfe3L",
        "outputId": "b112c2a5-c1f2-46c4-8317-c076e03e5128"
      },
      "outputs": [
        {
          "data": {
            "text/html": [
              "<div>\n",
              "<style scoped>\n",
              "    .dataframe tbody tr th:only-of-type {\n",
              "        vertical-align: middle;\n",
              "    }\n",
              "\n",
              "    .dataframe tbody tr th {\n",
              "        vertical-align: top;\n",
              "    }\n",
              "\n",
              "    .dataframe thead th {\n",
              "        text-align: right;\n",
              "    }\n",
              "</style>\n",
              "<table border=\"1\" class=\"dataframe\">\n",
              "  <thead>\n",
              "    <tr style=\"text-align: right;\">\n",
              "      <th></th>\n",
              "      <th>No</th>\n",
              "      <th>year</th>\n",
              "      <th>month</th>\n",
              "      <th>day</th>\n",
              "      <th>hour</th>\n",
              "      <th>PM2.5</th>\n",
              "      <th>PM10</th>\n",
              "      <th>SO2</th>\n",
              "      <th>NO2</th>\n",
              "      <th>CO</th>\n",
              "      <th>O3</th>\n",
              "      <th>TEMP</th>\n",
              "      <th>PRES</th>\n",
              "      <th>DEWP</th>\n",
              "      <th>RAIN</th>\n",
              "      <th>wd</th>\n",
              "      <th>WSPM</th>\n",
              "      <th>station</th>\n",
              "      <th>datetime</th>\n",
              "    </tr>\n",
              "  </thead>\n",
              "  <tbody>\n",
              "    <tr>\n",
              "      <th>count</th>\n",
              "      <td>33934.000000</td>\n",
              "      <td>33934.000000</td>\n",
              "      <td>33934.000000</td>\n",
              "      <td>33934.000000</td>\n",
              "      <td>33934.000000</td>\n",
              "      <td>33934.000000</td>\n",
              "      <td>33934.000000</td>\n",
              "      <td>33934.000000</td>\n",
              "      <td>33934.000000</td>\n",
              "      <td>33934.000000</td>\n",
              "      <td>33934.000000</td>\n",
              "      <td>33934.000000</td>\n",
              "      <td>33934.000000</td>\n",
              "      <td>33934.000000</td>\n",
              "      <td>33934.000000</td>\n",
              "      <td>33934</td>\n",
              "      <td>33934.000000</td>\n",
              "      <td>33934</td>\n",
              "      <td>33934</td>\n",
              "    </tr>\n",
              "    <tr>\n",
              "      <th>unique</th>\n",
              "      <td>NaN</td>\n",
              "      <td>NaN</td>\n",
              "      <td>NaN</td>\n",
              "      <td>NaN</td>\n",
              "      <td>NaN</td>\n",
              "      <td>NaN</td>\n",
              "      <td>NaN</td>\n",
              "      <td>NaN</td>\n",
              "      <td>NaN</td>\n",
              "      <td>NaN</td>\n",
              "      <td>NaN</td>\n",
              "      <td>NaN</td>\n",
              "      <td>NaN</td>\n",
              "      <td>NaN</td>\n",
              "      <td>NaN</td>\n",
              "      <td>16</td>\n",
              "      <td>NaN</td>\n",
              "      <td>1</td>\n",
              "      <td>NaN</td>\n",
              "    </tr>\n",
              "    <tr>\n",
              "      <th>top</th>\n",
              "      <td>NaN</td>\n",
              "      <td>NaN</td>\n",
              "      <td>NaN</td>\n",
              "      <td>NaN</td>\n",
              "      <td>NaN</td>\n",
              "      <td>NaN</td>\n",
              "      <td>NaN</td>\n",
              "      <td>NaN</td>\n",
              "      <td>NaN</td>\n",
              "      <td>NaN</td>\n",
              "      <td>NaN</td>\n",
              "      <td>NaN</td>\n",
              "      <td>NaN</td>\n",
              "      <td>NaN</td>\n",
              "      <td>NaN</td>\n",
              "      <td>NE</td>\n",
              "      <td>NaN</td>\n",
              "      <td>Guanyuan</td>\n",
              "      <td>NaN</td>\n",
              "    </tr>\n",
              "    <tr>\n",
              "      <th>freq</th>\n",
              "      <td>NaN</td>\n",
              "      <td>NaN</td>\n",
              "      <td>NaN</td>\n",
              "      <td>NaN</td>\n",
              "      <td>NaN</td>\n",
              "      <td>NaN</td>\n",
              "      <td>NaN</td>\n",
              "      <td>NaN</td>\n",
              "      <td>NaN</td>\n",
              "      <td>NaN</td>\n",
              "      <td>NaN</td>\n",
              "      <td>NaN</td>\n",
              "      <td>NaN</td>\n",
              "      <td>NaN</td>\n",
              "      <td>NaN</td>\n",
              "      <td>4987</td>\n",
              "      <td>NaN</td>\n",
              "      <td>33934</td>\n",
              "      <td>NaN</td>\n",
              "    </tr>\n",
              "    <tr>\n",
              "      <th>mean</th>\n",
              "      <td>17563.414628</td>\n",
              "      <td>2014.664967</td>\n",
              "      <td>6.537249</td>\n",
              "      <td>15.702128</td>\n",
              "      <td>11.514646</td>\n",
              "      <td>83.014463</td>\n",
              "      <td>108.956922</td>\n",
              "      <td>17.624418</td>\n",
              "      <td>57.877624</td>\n",
              "      <td>1257.090057</td>\n",
              "      <td>55.513752</td>\n",
              "      <td>13.533988</td>\n",
              "      <td>1011.917961</td>\n",
              "      <td>3.082722</td>\n",
              "      <td>0.067655</td>\n",
              "      <td>NaN</td>\n",
              "      <td>1.711431</td>\n",
              "      <td>NaN</td>\n",
              "      <td>2015-03-02 18:24:52.662226688</td>\n",
              "    </tr>\n",
              "    <tr>\n",
              "      <th>min</th>\n",
              "      <td>1.000000</td>\n",
              "      <td>2013.000000</td>\n",
              "      <td>1.000000</td>\n",
              "      <td>1.000000</td>\n",
              "      <td>0.000000</td>\n",
              "      <td>2.000000</td>\n",
              "      <td>2.000000</td>\n",
              "      <td>1.000000</td>\n",
              "      <td>2.000000</td>\n",
              "      <td>100.000000</td>\n",
              "      <td>0.214200</td>\n",
              "      <td>-16.800000</td>\n",
              "      <td>985.900000</td>\n",
              "      <td>-35.300000</td>\n",
              "      <td>0.000000</td>\n",
              "      <td>NaN</td>\n",
              "      <td>0.000000</td>\n",
              "      <td>NaN</td>\n",
              "      <td>2013-03-01 00:00:00</td>\n",
              "    </tr>\n",
              "    <tr>\n",
              "      <th>25%</th>\n",
              "      <td>8784.250000</td>\n",
              "      <td>2014.000000</td>\n",
              "      <td>4.000000</td>\n",
              "      <td>8.000000</td>\n",
              "      <td>6.000000</td>\n",
              "      <td>23.000000</td>\n",
              "      <td>40.000000</td>\n",
              "      <td>3.000000</td>\n",
              "      <td>31.000000</td>\n",
              "      <td>500.000000</td>\n",
              "      <td>8.000000</td>\n",
              "      <td>3.000000</td>\n",
              "      <td>1003.400000</td>\n",
              "      <td>-8.200000</td>\n",
              "      <td>0.000000</td>\n",
              "      <td>NaN</td>\n",
              "      <td>0.900000</td>\n",
              "      <td>NaN</td>\n",
              "      <td>2014-03-01 23:15:00</td>\n",
              "    </tr>\n",
              "    <tr>\n",
              "      <th>50%</th>\n",
              "      <td>17640.500000</td>\n",
              "      <td>2015.000000</td>\n",
              "      <td>7.000000</td>\n",
              "      <td>16.000000</td>\n",
              "      <td>12.000000</td>\n",
              "      <td>59.000000</td>\n",
              "      <td>89.000000</td>\n",
              "      <td>8.000000</td>\n",
              "      <td>51.000000</td>\n",
              "      <td>900.000000</td>\n",
              "      <td>41.000000</td>\n",
              "      <td>14.500000</td>\n",
              "      <td>1011.500000</td>\n",
              "      <td>3.800000</td>\n",
              "      <td>0.000000</td>\n",
              "      <td>NaN</td>\n",
              "      <td>1.400000</td>\n",
              "      <td>NaN</td>\n",
              "      <td>2015-03-05 23:30:00</td>\n",
              "    </tr>\n",
              "    <tr>\n",
              "      <th>75%</th>\n",
              "      <td>26276.750000</td>\n",
              "      <td>2016.000000</td>\n",
              "      <td>10.000000</td>\n",
              "      <td>23.000000</td>\n",
              "      <td>18.000000</td>\n",
              "      <td>115.000000</td>\n",
              "      <td>149.000000</td>\n",
              "      <td>22.000000</td>\n",
              "      <td>78.000000</td>\n",
              "      <td>1500.000000</td>\n",
              "      <td>80.000000</td>\n",
              "      <td>23.200000</td>\n",
              "      <td>1020.200000</td>\n",
              "      <td>15.600000</td>\n",
              "      <td>0.000000</td>\n",
              "      <td>NaN</td>\n",
              "      <td>2.200000</td>\n",
              "      <td>NaN</td>\n",
              "      <td>2016-02-28 19:45:00</td>\n",
              "    </tr>\n",
              "    <tr>\n",
              "      <th>max</th>\n",
              "      <td>35064.000000</td>\n",
              "      <td>2017.000000</td>\n",
              "      <td>12.000000</td>\n",
              "      <td>31.000000</td>\n",
              "      <td>23.000000</td>\n",
              "      <td>680.000000</td>\n",
              "      <td>987.000000</td>\n",
              "      <td>293.000000</td>\n",
              "      <td>270.000000</td>\n",
              "      <td>10000.000000</td>\n",
              "      <td>415.000000</td>\n",
              "      <td>40.500000</td>\n",
              "      <td>1042.000000</td>\n",
              "      <td>28.500000</td>\n",
              "      <td>72.500000</td>\n",
              "      <td>NaN</td>\n",
              "      <td>11.200000</td>\n",
              "      <td>NaN</td>\n",
              "      <td>2017-02-28 23:00:00</td>\n",
              "    </tr>\n",
              "    <tr>\n",
              "      <th>std</th>\n",
              "      <td>10100.416461</td>\n",
              "      <td>1.175442</td>\n",
              "      <td>3.457351</td>\n",
              "      <td>8.804081</td>\n",
              "      <td>6.935954</td>\n",
              "      <td>81.058632</td>\n",
              "      <td>91.084665</td>\n",
              "      <td>23.614302</td>\n",
              "      <td>35.037595</td>\n",
              "      <td>1138.438879</td>\n",
              "      <td>56.946252</td>\n",
              "      <td>11.416123</td>\n",
              "      <td>10.377404</td>\n",
              "      <td>13.715215</td>\n",
              "      <td>0.917130</td>\n",
              "      <td>NaN</td>\n",
              "      <td>1.199695</td>\n",
              "      <td>NaN</td>\n",
              "      <td>NaN</td>\n",
              "    </tr>\n",
              "  </tbody>\n",
              "</table>\n",
              "</div>"
            ],
            "text/plain": [
              "                  No          year         month           day          hour  \\\n",
              "count   33934.000000  33934.000000  33934.000000  33934.000000  33934.000000   \n",
              "unique           NaN           NaN           NaN           NaN           NaN   \n",
              "top              NaN           NaN           NaN           NaN           NaN   \n",
              "freq             NaN           NaN           NaN           NaN           NaN   \n",
              "mean    17563.414628   2014.664967      6.537249     15.702128     11.514646   \n",
              "min         1.000000   2013.000000      1.000000      1.000000      0.000000   \n",
              "25%      8784.250000   2014.000000      4.000000      8.000000      6.000000   \n",
              "50%     17640.500000   2015.000000      7.000000     16.000000     12.000000   \n",
              "75%     26276.750000   2016.000000     10.000000     23.000000     18.000000   \n",
              "max     35064.000000   2017.000000     12.000000     31.000000     23.000000   \n",
              "std     10100.416461      1.175442      3.457351      8.804081      6.935954   \n",
              "\n",
              "               PM2.5          PM10           SO2           NO2            CO  \\\n",
              "count   33934.000000  33934.000000  33934.000000  33934.000000  33934.000000   \n",
              "unique           NaN           NaN           NaN           NaN           NaN   \n",
              "top              NaN           NaN           NaN           NaN           NaN   \n",
              "freq             NaN           NaN           NaN           NaN           NaN   \n",
              "mean       83.014463    108.956922     17.624418     57.877624   1257.090057   \n",
              "min         2.000000      2.000000      1.000000      2.000000    100.000000   \n",
              "25%        23.000000     40.000000      3.000000     31.000000    500.000000   \n",
              "50%        59.000000     89.000000      8.000000     51.000000    900.000000   \n",
              "75%       115.000000    149.000000     22.000000     78.000000   1500.000000   \n",
              "max       680.000000    987.000000    293.000000    270.000000  10000.000000   \n",
              "std        81.058632     91.084665     23.614302     35.037595   1138.438879   \n",
              "\n",
              "                  O3          TEMP          PRES          DEWP          RAIN  \\\n",
              "count   33934.000000  33934.000000  33934.000000  33934.000000  33934.000000   \n",
              "unique           NaN           NaN           NaN           NaN           NaN   \n",
              "top              NaN           NaN           NaN           NaN           NaN   \n",
              "freq             NaN           NaN           NaN           NaN           NaN   \n",
              "mean       55.513752     13.533988   1011.917961      3.082722      0.067655   \n",
              "min         0.214200    -16.800000    985.900000    -35.300000      0.000000   \n",
              "25%         8.000000      3.000000   1003.400000     -8.200000      0.000000   \n",
              "50%        41.000000     14.500000   1011.500000      3.800000      0.000000   \n",
              "75%        80.000000     23.200000   1020.200000     15.600000      0.000000   \n",
              "max       415.000000     40.500000   1042.000000     28.500000     72.500000   \n",
              "std        56.946252     11.416123     10.377404     13.715215      0.917130   \n",
              "\n",
              "           wd          WSPM   station                       datetime  \n",
              "count   33934  33934.000000     33934                          33934  \n",
              "unique     16           NaN         1                            NaN  \n",
              "top        NE           NaN  Guanyuan                            NaN  \n",
              "freq     4987           NaN     33934                            NaN  \n",
              "mean      NaN      1.711431       NaN  2015-03-02 18:24:52.662226688  \n",
              "min       NaN      0.000000       NaN            2013-03-01 00:00:00  \n",
              "25%       NaN      0.900000       NaN            2014-03-01 23:15:00  \n",
              "50%       NaN      1.400000       NaN            2015-03-05 23:30:00  \n",
              "75%       NaN      2.200000       NaN            2016-02-28 19:45:00  \n",
              "max       NaN     11.200000       NaN            2017-02-28 23:00:00  \n",
              "std       NaN      1.199695       NaN                            NaN  "
            ]
          },
          "execution_count": 117,
          "metadata": {},
          "output_type": "execute_result"
        }
      ],
      "source": [
        "df_prsa.describe(include=\"all\")"
      ]
    },
    {
      "cell_type": "markdown",
      "metadata": {
        "id": "U_pOOj3uUnWd"
      },
      "source": [
        "Melakukan perhitungan korelasi untuk melihat hubungan antara RAIN dengan PM2.5 / PM10."
      ]
    },
    {
      "cell_type": "code",
      "execution_count": 118,
      "metadata": {
        "colab": {
          "base_uri": "https://localhost:8080/"
        },
        "id": "e9CQCZjk8DC2",
        "outputId": "eee52744-f7f1-4738-c3c1-8058e693854c"
      },
      "outputs": [
        {
          "name": "stdout",
          "output_type": "stream",
          "text": [
            "Korelasi antara RAIN dan CO: -0.0112\n"
          ]
        }
      ],
      "source": [
        "# Menghitung korelasi antara RAIN dengan CO\n",
        "correlation_co = df_prsa[['RAIN', 'CO']].corr().iloc[0, 1]\n",
        "\n",
        "print(f\"Korelasi antara RAIN dan CO: {correlation_co:.4f}\")\n"
      ]
    },
    {
      "cell_type": "markdown",
      "metadata": {
        "id": "th_Lzl2Fkj9O"
      },
      "source": [
        "**Insight:**\n",
        "Jika korelasi negatif, berarti ada indikasi bahwa curah hujan membantu mengurangi kadar CO. Bisa dilihat bahwa korelasi antara RAIN dengan CO bernilai negatif sehingga terindikasi ada korelasi antara berkurangnya kadar karbon monoksida dengan curah hujan."
      ]
    },
    {
      "cell_type": "code",
      "execution_count": 119,
      "metadata": {
        "colab": {
          "base_uri": "https://localhost:8080/",
          "height": 504
        },
        "id": "qpTbDaDTqMC_",
        "outputId": "db4390b1-adef-42df-eba2-cf96e83b9962"
      },
      "outputs": [
        {
          "data": {
            "text/plain": [
              "Text(0.5, 1.0, 'Distribusi Histogram CO')"
            ]
          },
          "execution_count": 119,
          "metadata": {},
          "output_type": "execute_result"
        },
        {
          "data": {
            "image/png": "[encoded data removed]",
            "text/plain": [
              "<Figure size 1500x500 with 1 Axes>"
            ]
          },
          "metadata": {},
          "output_type": "display_data"
        }
      ],
      "source": [
        "# Membuat visualisasi distribusi data karbon monoksida\n",
        "plt.figure(figsize=(15, 5))\n",
        "\n",
        "# Histogram CO\n",
        "plt.subplot(1, 3, 1)\n",
        "sns.histplot(df_prsa['CO'], bins=30, kde=True, color='blue')\n",
        "plt.xlabel('Kadar CO (ppm)')\n",
        "plt.ylabel('Frekuensi')\n",
        "plt.title('Distribusi Histogram CO')\n"
      ]
    },
    {
      "cell_type": "markdown",
      "metadata": {
        "id": "FfM3m736rJsx"
      },
      "source": [
        "Distribusi kadar CO menunjukkan pola left-skewed, di mana sebagian besar data berada di bawah 2000 ppm, tetapi ada beberapa nilai ekstrem yang lebih tinggi."
      ]
    },
    {
      "cell_type": "code",
      "execution_count": 120,
      "metadata": {},
      "outputs": [
        {
          "name": "stdout",
          "output_type": "stream",
          "text": [
            "Rata-rata CO per bulan di tahun 2015:\n",
            "month\n",
            "1     1897.530864\n",
            "2     1489.074355\n",
            "3     1192.739726\n",
            "4      808.069164\n",
            "5      750.415512\n",
            "6     1173.314607\n",
            "7      974.038462\n",
            "8      892.719780\n",
            "9      876.955903\n",
            "10     954.189189\n",
            "11    1948.095910\n",
            "12    2827.222982\n",
            "Name: CO, dtype: float64\n",
            "\n",
            "Rata-rata CO per bulan di tahun 2016:\n",
            "month\n",
            "1     1489.367429\n",
            "2      920.609579\n",
            "3     1257.634113\n",
            "4      796.453901\n",
            "5      742.718447\n",
            "6      831.792717\n",
            "7      921.366279\n",
            "8      865.945946\n",
            "9      799.400300\n",
            "10    1164.502762\n",
            "11    1700.702247\n",
            "12    2505.601093\n",
            "Name: CO, dtype: float64\n"
          ]
        }
      ],
      "source": [
        "# Filter data untuk tahun 2015 dan 2016\n",
        "df_2015 = df_prsa[df_prsa['year'] == 2015].groupby('month')['CO'].mean()\n",
        "df_2016 = df_prsa[df_prsa['year'] == 2016].groupby('month')['CO'].mean()\n",
        "\n",
        "print(\"Rata-rata CO per bulan di tahun 2015:\")\n",
        "print(df_2015)\n",
        "print(\"\\nRata-rata CO per bulan di tahun 2016:\")\n",
        "print(df_2016)"
      ]
    },
    {
      "cell_type": "code",
      "execution_count": 121,
      "metadata": {},
      "outputs": [
        {
          "name": "stdout",
          "output_type": "stream",
          "text": [
            "              2015         2016\n",
            "month                          \n",
            "1      1897.530864  1489.367429\n",
            "2      1489.074355   920.609579\n",
            "3      1192.739726  1257.634113\n",
            "4       808.069164   796.453901\n",
            "5       750.415512   742.718447\n",
            "6      1173.314607   831.792717\n",
            "7       974.038462   921.366279\n",
            "8       892.719780   865.945946\n",
            "9       876.955903   799.400300\n",
            "10      954.189189  1164.502762\n",
            "11     1948.095910  1700.702247\n",
            "12     2827.222982  2505.601093\n"
          ]
        }
      ],
      "source": [
        "# Gabungkan data 2015 dan 2016 dalam satu DataFrame\n",
        "co_trend = pd.DataFrame({'2015': df_2015, '2016': df_2016})\n",
        "print(co_trend)"
      ]
    },
    {
      "cell_type": "code",
      "execution_count": 122,
      "metadata": {},
      "outputs": [
        {
          "name": "stdout",
          "output_type": "stream",
          "text": [
            "Korelasi antara kadar CO tahun 2015 dan 2016: 0.94\n"
          ]
        }
      ],
      "source": [
        "# Analisis korelasi\n",
        "correlation = co_trend.corr().iloc[0, 1]\n",
        "print(f\"Korelasi antara kadar CO tahun 2015 dan 2016: {correlation:.2f}\")"
      ]
    },
    {
      "cell_type": "markdown",
      "metadata": {
        "id": "zsyZjqak8DC2"
      },
      "source": [
        "## Visualization & Explanatory Analysis"
      ]
    },
    {
      "cell_type": "markdown",
      "metadata": {
        "id": "HZxOiQ6n8DC2"
      },
      "source": [
        "### Pertanyaan 1: Bagaimana relasi antara curah hujan (RAIN) dengan kadar Karbon Monoksida di kota Guanyuan?"
      ]
    },
    {
      "cell_type": "code",
      "execution_count": 123,
      "metadata": {
        "colab": {
          "base_uri": "https://localhost:8080/",
          "height": 487
        },
        "id": "BdfHmCuAXdef",
        "outputId": "0d18e6c2-0cd0-44ba-9ee3-d0438b609535"
      },
      "outputs": [
        {
          "data": {
            "image/png": "[encoded data removed]",
            "text/plain": [
              "<Figure size 1200x500 with 1 Axes>"
            ]
          },
          "metadata": {},
          "output_type": "display_data"
        }
      ],
      "source": [
        "# Scatter plot antara curah hujan dan karbon monoksida\n",
        "plt.figure(figsize=(12,5))\n",
        "sns.scatterplot(x=df_prsa['RAIN'], y=df_prsa['CO'], alpha=0.5)\n",
        "plt.xlabel('Curah Hujan (mm)')\n",
        "plt.ylabel('CO (ppm)')\n",
        "plt.title('Hubungan Curah Hujan dengan CO')\n",
        "plt.show()"
      ]
    },
    {
      "cell_type": "markdown",
      "metadata": {
        "id": "vrMyPg_a3-Jg"
      },
      "source": [
        "**Insight:**\n",
        "\n",
        "Terdapat tren penurunan kadar karbon monoksida (CO) seiring dengan meningkatnya curah hujan. Ini menunjukkan bahwa hujan berpotensi membantu mengurangi polusi udara dengan membersihkan partikel CO dari atmosfer. Namun, data menunjukkan banyak titik terkonsentrasi di sekitar nol curah hujan, yang mungkin mengindikasikan bahwa sebagian besar waktu tidak ada hujan, sehingga analisis lebih lanjut diperlukan."
      ]
    },
    {
      "cell_type": "code",
      "execution_count": 124,
      "metadata": {
        "colab": {
          "base_uri": "https://localhost:8080/",
          "height": 487
        },
        "id": "1swJUdAD8DC2",
        "outputId": "9b87cbd2-c655-4310-e1da-9769a83f3f9b"
      },
      "outputs": [
        {
          "data": {
            "image/png": "[encoded data removed]",
            "text/plain": [
              "<Figure size 800x500 with 1 Axes>"
            ]
          },
          "metadata": {},
          "output_type": "display_data"
        }
      ],
      "source": [
        "# Menambahkan kolom kategori hujan/tidak hujan\n",
        "df_prsa['rain_category'] = df_prsa['RAIN'].apply(lambda x: 'Hujan' if x > 0 else 'Tidak Hujan')\n",
        "\n",
        "# Box plot untuk CO\n",
        "plt.figure(figsize=(8,5))\n",
        "sns.boxplot(x=df_prsa['rain_category'], y=df_prsa['CO'])\n",
        "plt.xlabel('Kategori Hujan')\n",
        "plt.ylabel('CO (PPM)')\n",
        "plt.title('Distribusi CO pada Hari Hujan vs Tidak Hujan')\n",
        "plt.show()\n"
      ]
    },
    {
      "cell_type": "markdown",
      "metadata": {
        "id": "XpZjctQf69Zo"
      },
      "source": [
        "**Insight:**\n",
        "\n",
        "Berdasarkan box plot yang membandingkan kadar Karbon Monoksida (CO) pada hari hujan dan tidak hujan, terlihat bahwa distribusi CO pada kedua kategori memiliki pola yang hampir sama. Median kadar CO pada hari hujan dan tidak hujan berada dalam rentang yang mirip, menunjukkan bahwa curah hujan tidak memiliki dampak yang signifikan dalam mengurangi CO secara keseluruhan. Distribusi utama CO tetap berada dalam kisaran yang serupa di kedua kondisi. Hal ini mengindikasikan bahwa meskipun hujan mungkin sedikit membantu mengurangi kejadian kadar CO yang sangat tinggi, secara umum, polusi CO tetap bertahan di udara meskipun terjadi hujan."
      ]
    },
    {
      "cell_type": "markdown",
      "metadata": {
        "id": "DgHI7CiU8DC2"
      },
      "source": [
        "### Pertanyaan 2: Bagaimana pola tren kadar karbon monoksida (CO) di Kota Guanyuan per bulan pada tahun 2015 dibandingkan dengan 2016? Apakah terdapat korelasi yang signifikan antara keduanya?"
      ]
    },
    {
      "cell_type": "code",
      "execution_count": 125,
      "metadata": {
        "colab": {
          "base_uri": "https://localhost:8080/"
        },
        "id": "Go0lCsvO8DC2",
        "outputId": "69288dc7-25ef-4ac8-80bf-5ccc64f89b60"
      },
      "outputs": [
        {
          "name": "stdout",
          "output_type": "stream",
          "text": [
            "              2015         2016\n",
            "month                          \n",
            "1      1897.530864  1489.367429\n",
            "2      1489.074355   920.609579\n",
            "3      1192.739726  1257.634113\n",
            "4       808.069164   796.453901\n",
            "5       750.415512   742.718447\n",
            "6      1173.314607   831.792717\n",
            "7       974.038462   921.366279\n",
            "8       892.719780   865.945946\n",
            "9       876.955903   799.400300\n",
            "10      954.189189  1164.502762\n",
            "11     1948.095910  1700.702247\n",
            "12     2827.222982  2505.601093\n"
          ]
        }
      ],
      "source": [
        "print(co_trend)"
      ]
    },
    {
      "cell_type": "code",
      "execution_count": 126,
      "metadata": {},
      "outputs": [
        {
          "name": "stdout",
          "output_type": "stream",
          "text": [
            "Korelasi antara kadar CO tahun 2015 dan 2016: 0.94\n"
          ]
        }
      ],
      "source": [
        "# Analisis korelasi\n",
        "correlation = co_trend.corr().iloc[0, 1]\n",
        "print(f\"Korelasi antara kadar CO tahun 2015 dan 2016: {correlation:.2f}\")"
      ]
    },
    {
      "cell_type": "code",
      "execution_count": 127,
      "metadata": {
        "colab": {
          "base_uri": "https://localhost:8080/",
          "height": 487
        },
        "id": "5ja0dkdZAECF",
        "outputId": "df5ff44d-ac7b-4bec-d4e8-a5cf5f99ff78"
      },
      "outputs": [
        {
          "data": {
            "image/png": "[encoded data removed]",
            "text/plain": [
              "<Figure size 1000x500 with 1 Axes>"
            ]
          },
          "metadata": {},
          "output_type": "display_data"
        }
      ],
      "source": [
        "# Visualisasi tren kadar CO\n",
        "plt.figure(figsize=(10, 5))\n",
        "plt.plot(co_trend.index, co_trend['2015'], marker='o', linestyle='-', label='2015', color='blue')\n",
        "plt.plot(co_trend.index, co_trend['2016'], marker='s', linestyle='--', label='2016', color='red')\n",
        "plt.xlabel(\"Bulan\")\n",
        "plt.ylabel(\"Rata-rata CO (PPM)\")\n",
        "plt.title(\"Tren Kadar Karbon Monoksida (CO) di Kota Guanyuan (2015 vs 2016)\")\n",
        "plt.xticks(range(1, 13), ['Jan', 'Feb', 'Mar', 'Apr', 'Mei', 'Jun', 'Jul', 'Agu', 'Sep', 'Okt', 'Nov', 'Des'])\n",
        "plt.legend()\n",
        "plt.grid(True)\n",
        "plt.show()"
      ]
    },
    {
      "cell_type": "markdown",
      "metadata": {
        "id": "_0-36BDLklRg"
      },
      "source": [
        "**Insight:**\n",
        "\n",
        "Dari grafik yang disajikan didapatkan Korelasi sebesar 0.94 antara kadar CO tahun 2015 dan 2016 menunjukkan hubungan yang sangat kuat dan positif. Ini mengindikasikan bahwa pola fluktuasi kadar CO dari bulan ke bulan pada kedua tahun tersebut sangat mirip. Dengan kata lain, ketika kadar CO meningkat atau menurun pada suatu bulan di tahun 2015, tren serupa juga terjadi di tahun 2016."
      ]
    },
    {
      "cell_type": "markdown",
      "metadata": {
        "id": "_WeHlCeX8DC2"
      },
      "source": [
        "## Conclusion"
      ]
    },
    {
      "cell_type": "markdown",
      "metadata": {
        "id": "ZTcyR48Y8DC2"
      },
      "source": [
        "Conclution pertanyaan 1 :\n",
        "\n",
        "\n",
        "Berdasarkan analisis data dan visualisasi yang disajikan, terdapat indikasi bahwa curah hujan memiliki hubungan negatif dengan kadar karbon monoksida (CO) di Kota Guanyuan, di mana peningkatan curah hujan umumnya dikaitkan dengan penurunan kadar CO. Hal ini didukung oleh sebaran data yang menunjukkan bahwa pada curah hujan yang lebih tinggi, kadar CO cenderung lebih rendah. Fenomena ini dapat dijelaskan oleh efek pembersihan atmosfer oleh hujan, yang membantu mengendapkan partikel dan gas polutan dari udara.\n",
        "\n",
        "Namun, distribusi kadar CO pada hari hujan dan tidak hujan menunjukkan pola yang hampir serupa, dengan median dan interkuartil yang tidak jauh berbeda. Ini mengindikasikan bahwa meskipun hujan berkontribusi dalam menurunkan kadar CO, dampaknya tidak cukup besar untuk sepenuhnya menghilangkan polusi karbon monoksida di atmosfer. Selain itu, terdapat konsentrasi data pada kondisi tanpa hujan, yang mengisyaratkan bahwa sebagian besar waktu kota ini mengalami curah hujan yang rendah atau tidak ada hujan sama sekali. Oleh karena itu, faktor-faktor lain seperti sumber emisi, kondisi meteorologi, dan pola aktivitas manusia masih menjadi faktor dominan yang memengaruhi kadar CO.\n",
        "\n",
        "\n",
        "\n",
        "**Conclution pertanyaan 2**\n",
        "\n",
        "Berdasarkan analisis tren kadar karbon monoksida (CO) di Kota Guanyuan pada tahun 2015 dan 2016, ditemukan bahwa kedua tahun menunjukkan pola fluktuasi yang sangat mirip dengan korelasi sebesar 0.94, yang menunjukkan hubungan yang sangat kuat dan positif. Ini berarti bahwa perubahan kadar CO dari bulan ke bulan di tahun 2015 hampir selalu diikuti oleh perubahan serupa di tahun 2016.\n",
        "\n",
        "Tren musiman dalam kadar CO tampak jelas, dengan konsentrasi yang lebih tinggi di awal dan akhir tahun, serta penurunan pada pertengahan tahun. Hal ini bisa mengindikasikan adanya faktor eksternal yang berulang setiap tahun, seperti perubahan pola cuaca, aktivitas industri, atau tingkat emisi kendaraan yang dipengaruhi oleh musim.\n",
        "\n",
        "Dari sudut pandang kebijakan, hasil ini menunjukkan bahwa faktor-faktor yang berkontribusi terhadap polusi CO relatif stabil dari tahun ke tahun. Oleh karena itu, upaya pengurangan emisi harus difokuskan pada bulan-bulan dengan tingkat CO tinggi, misalnya dengan menerapkan pembatasan lalu lintas atau pengendalian emisi industri pada periode kritis. Selain itu, karena pola tahun 2015 dan 2016 sangat mirip, maka model prediksi kualitas udara berdasarkan data historis bisa menjadi alat yang andal untuk perencanaan lingkungan ke depan."
      ]
    }
  ],
  "metadata": {
    "colab": {
      "provenance": []
    },
    "kernelspec": {
      "display_name": "main-ds",
      "language": "python",
      "name": "python3"
    },
    "language_info": {
      "codemirror_mode": {
        "name": "ipython",
        "version": 3
      },
      "file_extension": ".py",
      "mimetype": "text/x-python",
      "name": "python",
      "nbconvert_exporter": "python",
      "pygments_lexer": "ipython3",
      "version": "3.12.7"
    },
    "orig_nbformat": 4
  },
  "nbformat": 4,
  "nbformat_minor": 0
}
